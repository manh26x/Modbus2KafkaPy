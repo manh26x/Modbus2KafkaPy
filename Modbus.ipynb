{
 "cells": [
  {
   "cell_type": "code",
   "execution_count": 87,
   "metadata": {
    "collapsed": true
   },
   "outputs": [
    {
     "name": "stdout",
     "output_type": "stream",
     "text": [
      "Writing Registers:\n",
      "[18988, 51756]\n",
      "\n",
      "\n",
      "4\n",
      "[50856, 16809, 0, 0]\n",
      "Decoded Data\n",
      "16float\t21.22\n",
      "16float2\t0.0\n",
      "\n",
      "\n"
     ]
    }
   ],
   "source": [
    "from pymodbus.constants import Endian\n",
    "from collections import OrderedDict\n",
    "from pymodbus.payload import BinaryPayloadDecoder, BinaryPayloadBuilder\n",
    "from pymodbus.client import ModbusTcpClient\n",
    "\n",
    "client = ModbusTcpClient('127.0.0.1', 5020)\n",
    "builder = BinaryPayloadBuilder(byteorder=Endian.Big, wordorder=Endian.Little)\n",
    "builder.add_16bit_float(12.34)\n",
    "builder.add_16bit_float(-12.34)\n",
    "registers = builder.to_registers()\n",
    "print(\"Writing Registers:\")\n",
    "print(registers)\n",
    "print(\"\\n\")\n",
    "payload = builder.build()\n",
    "address = 151\n",
    "count = 4\n",
    "print(count)\n",
    "rr = client.read_holding_registers(address, count, slave=1)\n",
    "assert not rr.isError()\n",
    "print(rr.registers)\n",
    "\n",
    "decoder = BinaryPayloadDecoder.fromRegisters(rr.registers, Endian.Big, Endian.Little)\n",
    "decoded = OrderedDict([(\"16float\", round(decoder.decode_32bit_float(),2)), (\"16float2\", round(decoder.decode_32bit_float(),2))])\n",
    "print(\"Decoded Data\")\n",
    "for name, value in iter(decoded.items()):\n",
    "    print(f\"{name}\\t{hex(value) if isinstance(value, int) else value}\")\n",
    "print(\"\\n\")\n",
    "client.close()"
   ]
  },
  {
   "cell_type": "code",
   "execution_count": null,
   "outputs": [],
   "source": [
    "def build_payload():\n"
   ],
   "metadata": {
    "collapsed": false
   }
  },
  {
   "cell_type": "code",
   "execution_count": 20,
   "outputs": [
    {
     "ename": "ImportError",
     "evalue": "cannot import name 'IncompatibleBrokerVersion' from 'kafka.errors' (C:\\Users\\hungm\\PycharmProjects\\Modbus2Kafka\\venv\\lib\\site-packages\\kafka\\errors.py)",
     "output_type": "error",
     "traceback": [
      "\u001B[1;31m---------------------------------------------------------------------------\u001B[0m",
      "\u001B[1;31mImportError\u001B[0m                               Traceback (most recent call last)",
      "Cell \u001B[1;32mIn[20], line 1\u001B[0m\n\u001B[1;32m----> 1\u001B[0m \u001B[38;5;28;01mfrom\u001B[39;00m \u001B[38;5;21;01mkafka\u001B[39;00m \u001B[38;5;28;01mimport\u001B[39;00m KafkaProducer\n\u001B[0;32m      3\u001B[0m producer \u001B[38;5;241m=\u001B[39m KafkaProducer(bootstrap_servers\u001B[38;5;241m=\u001B[39m\u001B[38;5;124m'\u001B[39m\u001B[38;5;124mlocalhost:9092\u001B[39m\u001B[38;5;124m'\u001B[39m)\n\u001B[0;32m      4\u001B[0m future \u001B[38;5;241m=\u001B[39m producer\u001B[38;5;241m.\u001B[39msend(\u001B[38;5;124m'\u001B[39m\u001B[38;5;124mquickstart\u001B[39m\u001B[38;5;124m'\u001B[39m, key\u001B[38;5;241m=\u001B[39m\u001B[38;5;124mb\u001B[39m\u001B[38;5;124m'\u001B[39m\u001B[38;5;124mtest_key\u001B[39m\u001B[38;5;124m'\u001B[39m, value\u001B[38;5;241m=\u001B[39m\u001B[38;5;124mb\u001B[39m\u001B[38;5;124m'\u001B[39m\u001B[38;5;124mtest\u001B[39m\u001B[38;5;124m'\u001B[39m)\n",
      "File \u001B[1;32m~\\PycharmProjects\\Modbus2Kafka\\venv\\lib\\site-packages\\kafka\\__init__.py:21\u001B[0m\n\u001B[0;32m     16\u001B[0m             \u001B[38;5;28;01mpass\u001B[39;00m\n\u001B[0;32m     18\u001B[0m logging\u001B[38;5;241m.\u001B[39mgetLogger(\u001B[38;5;18m__name__\u001B[39m)\u001B[38;5;241m.\u001B[39maddHandler(NullHandler())\n\u001B[1;32m---> 21\u001B[0m \u001B[38;5;28;01mfrom\u001B[39;00m \u001B[38;5;21;01mkafka\u001B[39;00m\u001B[38;5;21;01m.\u001B[39;00m\u001B[38;5;21;01madmin\u001B[39;00m \u001B[38;5;28;01mimport\u001B[39;00m KafkaAdminClient\n\u001B[0;32m     22\u001B[0m \u001B[38;5;28;01mfrom\u001B[39;00m \u001B[38;5;21;01mkafka\u001B[39;00m\u001B[38;5;21;01m.\u001B[39;00m\u001B[38;5;21;01mclient_async\u001B[39;00m \u001B[38;5;28;01mimport\u001B[39;00m KafkaClient\n\u001B[0;32m     23\u001B[0m \u001B[38;5;28;01mfrom\u001B[39;00m \u001B[38;5;21;01mkafka\u001B[39;00m\u001B[38;5;21;01m.\u001B[39;00m\u001B[38;5;21;01mconsumer\u001B[39;00m \u001B[38;5;28;01mimport\u001B[39;00m KafkaConsumer\n",
      "File \u001B[1;32m~\\PycharmProjects\\Modbus2Kafka\\venv\\lib\\site-packages\\kafka\\admin\\__init__.py:4\u001B[0m\n\u001B[0;32m      1\u001B[0m \u001B[38;5;28;01mfrom\u001B[39;00m \u001B[38;5;21;01m__future__\u001B[39;00m \u001B[38;5;28;01mimport\u001B[39;00m absolute_import\n\u001B[0;32m      3\u001B[0m \u001B[38;5;28;01mfrom\u001B[39;00m \u001B[38;5;21;01mkafka\u001B[39;00m\u001B[38;5;21;01m.\u001B[39;00m\u001B[38;5;21;01madmin\u001B[39;00m\u001B[38;5;21;01m.\u001B[39;00m\u001B[38;5;21;01mconfig_resource\u001B[39;00m \u001B[38;5;28;01mimport\u001B[39;00m ConfigResource, ConfigResourceType\n\u001B[1;32m----> 4\u001B[0m \u001B[38;5;28;01mfrom\u001B[39;00m \u001B[38;5;21;01mkafka\u001B[39;00m\u001B[38;5;21;01m.\u001B[39;00m\u001B[38;5;21;01madmin\u001B[39;00m\u001B[38;5;21;01m.\u001B[39;00m\u001B[38;5;21;01mclient\u001B[39;00m \u001B[38;5;28;01mimport\u001B[39;00m KafkaAdminClient\n\u001B[0;32m      5\u001B[0m \u001B[38;5;28;01mfrom\u001B[39;00m \u001B[38;5;21;01mkafka\u001B[39;00m\u001B[38;5;21;01m.\u001B[39;00m\u001B[38;5;21;01madmin\u001B[39;00m\u001B[38;5;21;01m.\u001B[39;00m\u001B[38;5;21;01macl_resource\u001B[39;00m \u001B[38;5;28;01mimport\u001B[39;00m (ACL, ACLFilter, ResourcePattern, ResourcePatternFilter, ACLOperation,\n\u001B[0;32m      6\u001B[0m                                       ResourceType, ACLPermissionType, ACLResourcePatternType)\n\u001B[0;32m      7\u001B[0m \u001B[38;5;28;01mfrom\u001B[39;00m \u001B[38;5;21;01mkafka\u001B[39;00m\u001B[38;5;21;01m.\u001B[39;00m\u001B[38;5;21;01madmin\u001B[39;00m\u001B[38;5;21;01m.\u001B[39;00m\u001B[38;5;21;01mnew_topic\u001B[39;00m \u001B[38;5;28;01mimport\u001B[39;00m NewTopic\n",
      "File \u001B[1;32m~\\PycharmProjects\\Modbus2Kafka\\venv\\lib\\site-packages\\kafka\\admin\\client.py:16\u001B[0m\n\u001B[0;32m     14\u001B[0m \u001B[38;5;28;01mfrom\u001B[39;00m \u001B[38;5;21;01mkafka\u001B[39;00m\u001B[38;5;21;01m.\u001B[39;00m\u001B[38;5;21;01mcoordinator\u001B[39;00m\u001B[38;5;21;01m.\u001B[39;00m\u001B[38;5;21;01mprotocol\u001B[39;00m \u001B[38;5;28;01mimport\u001B[39;00m ConsumerProtocolMemberMetadata, ConsumerProtocolMemberAssignment, ConsumerProtocol\n\u001B[0;32m     15\u001B[0m \u001B[38;5;28;01mimport\u001B[39;00m \u001B[38;5;21;01mkafka\u001B[39;00m\u001B[38;5;21;01m.\u001B[39;00m\u001B[38;5;21;01merrors\u001B[39;00m \u001B[38;5;28;01mas\u001B[39;00m \u001B[38;5;21;01mErrors\u001B[39;00m\n\u001B[1;32m---> 16\u001B[0m \u001B[38;5;28;01mfrom\u001B[39;00m \u001B[38;5;21;01mkafka\u001B[39;00m\u001B[38;5;21;01m.\u001B[39;00m\u001B[38;5;21;01merrors\u001B[39;00m \u001B[38;5;28;01mimport\u001B[39;00m (\n\u001B[0;32m     17\u001B[0m     IncompatibleBrokerVersion, KafkaConfigurationError, NotControllerError,\n\u001B[0;32m     18\u001B[0m     UnrecognizedBrokerVersion, IllegalArgumentError)\n\u001B[0;32m     19\u001B[0m \u001B[38;5;28;01mfrom\u001B[39;00m \u001B[38;5;21;01mkafka\u001B[39;00m\u001B[38;5;21;01m.\u001B[39;00m\u001B[38;5;21;01mmetrics\u001B[39;00m \u001B[38;5;28;01mimport\u001B[39;00m MetricConfig, Metrics\n\u001B[0;32m     20\u001B[0m \u001B[38;5;28;01mfrom\u001B[39;00m \u001B[38;5;21;01mkafka\u001B[39;00m\u001B[38;5;21;01m.\u001B[39;00m\u001B[38;5;21;01mprotocol\u001B[39;00m\u001B[38;5;21;01m.\u001B[39;00m\u001B[38;5;21;01madmin\u001B[39;00m \u001B[38;5;28;01mimport\u001B[39;00m (\n\u001B[0;32m     21\u001B[0m     CreateTopicsRequest, DeleteTopicsRequest, DescribeConfigsRequest, AlterConfigsRequest, CreatePartitionsRequest,\n\u001B[0;32m     22\u001B[0m     ListGroupsRequest, DescribeGroupsRequest, DescribeAclsRequest, CreateAclsRequest, DeleteAclsRequest,\n\u001B[0;32m     23\u001B[0m     DeleteGroupsRequest\n\u001B[0;32m     24\u001B[0m )\n",
      "\u001B[1;31mImportError\u001B[0m: cannot import name 'IncompatibleBrokerVersion' from 'kafka.errors' (C:\\Users\\hungm\\PycharmProjects\\Modbus2Kafka\\venv\\lib\\site-packages\\kafka\\errors.py)"
     ]
    }
   ],
   "source": [
    "from kafka import KafkaProducer\n",
    "\n",
    "producer = KafkaProducer(bootstrap_servers='localhost:9092')\n",
    "future = producer.send('quickstart', key=b'test_key', value=b'test')\n",
    "result = future.get(30)\n",
    "producer.flush()"
   ],
   "metadata": {
    "collapsed": false
   }
  },
  {
   "cell_type": "code",
   "execution_count": 3,
   "outputs": [
    {
     "data": {
      "text/plain": "1"
     },
     "execution_count": 3,
     "metadata": {},
     "output_type": "execute_result"
    }
   ],
   "source": [
    "from confluent_kafka import Producer\n",
    "import socket\n",
    "\n",
    "conf = {'bootstrap.servers': '127.0.0.1:9092', 'client.id': socket.gethostname()}\n",
    "producer = Producer(conf)\n",
    "def asked(err, msg):\n",
    "    if err is not None:\n",
    "        print('Failed to deliver message %s: %s' % (str(msg), str(err)))\n",
    "    else:\n",
    "        print('Message produced: %s' % (str(msg)))\n",
    "producer.produce('quickstart',value='Mike', callback=asked)\n",
    "producer.flush(12)"
   ],
   "metadata": {
    "collapsed": false
   }
  },
  {
   "cell_type": "code",
   "execution_count": 17,
   "outputs": [
    {
     "name": "stdout",
     "output_type": "stream",
     "text": [
      "gen data\n"
     ]
    }
   ],
   "source": [
    "from pymodbus.constants import Endian\n",
    "from pymodbus.payload import BinaryPayloadDecoder\n",
    "from pymodbus.client import ModbusTcpClient\n",
    "import pandas as pd\n",
    "from kafka import KafkaProducer\n",
    "import json\n",
    "\n",
    "\n",
    "def get_param():\n",
    "    data =  pd.read_excel(r\"CauHinhThongSoPaChien.xlsx\")\n",
    "    return data\n",
    "configModbus = json.load(open(\"CauHinhModbus.json\"))\n",
    "client = ModbusTcpClient(configModbus['host'], configModbus['port'])\n",
    "\n",
    "params = get_param()\n",
    "values = []\n",
    "for index, row in params.iterrows():\n",
    "    address = params.at[index, 'Addr']\n",
    "    count = params.at[index, 'Rid']\n",
    "    rr = client.read_holding_registers(address, count, slave=configModbus['slaveId'])\n",
    "    assert not rr.isError()\n",
    "    decoder = BinaryPayloadDecoder.fromRegisters(rr.registers, Endian.Big, Endian.Little)\n",
    "    if params.at[index, 'DataType'] == 'bit_float_32':\n",
    "        values.append(round(decoder.decode_32bit_float(), 4))\n",
    "    elif params.at[index, 'DataType'] == 'bit_undecimal_16':\n",
    "        values.append(decoder.decode_8bit_uint())\n",
    "params['Values'] = values\n",
    "\n",
    "kafkaConfig = json.load(open(\"CauHinhKafka.json\"))\n",
    "producer = KafkaProducer(bootstrap_servers=kafkaConfig['bootstrapServers'],api_version=(0, 10, 0),value_serializer=lambda v: json.dumps(v).encode('utf-8'))\n",
    "\n",
    "producer.send(kafkaConfig['topic'], params[['Name', 'Description', 'DataType', 'Values']].to_json())\n",
    "f = open(\"value.json\", \"w\")\n",
    "f.write(params[['Name', 'Description', 'DataType', 'Values']].to_json())\n",
    "f.close()\n",
    "print('gen data')"
   ],
   "metadata": {
    "collapsed": false
   }
  },
  {
   "cell_type": "code",
   "execution_count": 7,
   "outputs": [],
   "source": [
    "from kafka import KafkaProducer\n",
    "import json\n",
    "producer = KafkaProducer(bootstrap_servers=['localhost:29092'],api_version=(0, 10, 0),value_serializer=lambda v: json.dumps(v).encode('utf-8'))\n",
    "for _ in range(100):\n",
    "    producer.send('foobar', 'some_message_bytes')"
   ],
   "metadata": {
    "collapsed": false
   }
  },
  {
   "cell_type": "code",
   "execution_count": 2,
   "outputs": [
    {
     "name": "stdout",
     "output_type": "stream",
     "text": [
      "I am a scheduled job\n",
      "I am a scheduled job\n",
      "I'm working...\n",
      "I am a scheduled job\n",
      "I am a scheduled job\n",
      "I am a scheduled job\n",
      "I am a scheduled job\n",
      "I am a scheduled job\n"
     ]
    },
    {
     "ename": "KeyboardInterrupt",
     "evalue": "",
     "output_type": "error",
     "traceback": [
      "\u001B[1;31m---------------------------------------------------------------------------\u001B[0m",
      "\u001B[1;31mKeyboardInterrupt\u001B[0m                         Traceback (most recent call last)",
      "Cell \u001B[1;32mIn[2], line 10\u001B[0m\n\u001B[0;32m      8\u001B[0m \u001B[38;5;28;01mwhile\u001B[39;00m \u001B[38;5;28;01mTrue\u001B[39;00m:\n\u001B[0;32m      9\u001B[0m     run_pending()\n\u001B[1;32m---> 10\u001B[0m     \u001B[43mtime\u001B[49m\u001B[38;5;241;43m.\u001B[39;49m\u001B[43msleep\u001B[49m\u001B[43m(\u001B[49m\u001B[38;5;241;43m1\u001B[39;49m\u001B[43m)\u001B[49m\n",
      "\u001B[1;31mKeyboardInterrupt\u001B[0m: "
     ]
    }
   ],
   "source": [
    "from schedule import every, repeat, run_pending\n",
    "import time\n",
    "\n",
    "@repeat(every(5).seconds)\n",
    "def job():\n",
    "    print(\"I am a scheduled job\")\n",
    "\n",
    "while True:\n",
    "    run_pending()\n",
    "    time.sleep(1)"
   ],
   "metadata": {
    "collapsed": false
   }
  },
  {
   "cell_type": "code",
   "execution_count": null,
   "outputs": [],
   "source": [],
   "metadata": {
    "collapsed": false
   }
  }
 ],
 "metadata": {
  "kernelspec": {
   "display_name": "Python 3",
   "language": "python",
   "name": "python3"
  },
  "language_info": {
   "codemirror_mode": {
    "name": "ipython",
    "version": 2
   },
   "file_extension": ".py",
   "mimetype": "text/x-python",
   "name": "python",
   "nbconvert_exporter": "python",
   "pygments_lexer": "ipython2",
   "version": "2.7.6"
  }
 },
 "nbformat": 4,
 "nbformat_minor": 0
}
